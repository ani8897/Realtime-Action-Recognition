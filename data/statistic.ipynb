{
 "cells": [
  {
   "cell_type": "code",
   "execution_count": 4,
   "metadata": {},
   "outputs": [],
   "source": [
    "import os\n",
    "import shutil\n",
    "from collections import defaultdict, Counter\n",
    "\n",
    "%matplotlib inline\n",
    "import matplotlib.pyplot as plt\n",
    "\n",
    "ROOT_DIR = 'compressed_action_frames'\n",
    "\n",
    "def create_directory(path):\n",
    "    try:\n",
    "        os.stat(path)\n",
    "    except:\n",
    "        os.mkdir(path)"
   ]
  },
  {
   "cell_type": "code",
   "execution_count": 13,
   "metadata": {},
   "outputs": [],
   "source": [
    "## Plot the distribution of #clips for each category, as well as the number of clips belonging to each category\n",
    "\n",
    "def get_stats(dir_path):\n",
    "    class_count = Counter()\n",
    "    clip_distribution = defaultdict(list)\n",
    "    for clip_name in os.listdir(dir_path):\n",
    "        loc1 = clip_name.find('>')\n",
    "        loc2 = clip_name.find('-')\n",
    "\n",
    "        class_name = clip_name[(loc1 + 1): loc2] \n",
    "        class_count[class_name] += 1\n",
    "        clip_distribution[class_name].append(len(os.listdir(os.path.join(dir_path, clip_name))))\n",
    "    \n",
    "    return class_count, clip_distribution"
   ]
  },
  {
   "cell_type": "code",
   "execution_count": 6,
   "metadata": {},
   "outputs": [
    {
     "data": {
      "image/png": "[encoded data removed]",
      "text/plain": [
       "<Figure size 432x288 with 1 Axes>"
      ]
     },
     "metadata": {},
     "output_type": "display_data"
    }
   ],
   "source": [
    "## Plot the number of clips for each class, so that the dataset is balanced\n",
    "\n",
    "class_count, clip_distribution = get_stats(ROOT_DIR)\n",
    "plt.bar(range(len(class_count)), list(class_count.values()), align='center')\n",
    "plt.xticks(range(len(class_count)), list(class_count.keys()))\n",
    "plt.xlabel('Action')\n",
    "plt.ylabel('Number of clips')\n",
    "\n",
    "plt.show()"
   ]
  },
  {
   "cell_type": "code",
   "execution_count": 7,
   "metadata": {},
   "outputs": [
    {
     "data": {
      "image/png": "[encoded data removed]",
      "text/plain": [
       "<Figure size 432x288 with 2 Axes>"
      ]
     },
     "metadata": {},
     "output_type": "display_data"
    }
   ],
   "source": [
    "## Plot the distribution of clips for each class, need to trim smaller clips\n",
    "\n",
    "fig, ax = plt.subplots(1,2)\n",
    "counter = 0\n",
    "for class_name, dist in clip_distribution.items():\n",
    "    dist.sort()\n",
    "    dist = dist[:int(len(dist)/1.5)]\n",
    "#     print(dist)\n",
    "    \n",
    "    ax[counter].hist(dist, bins=20)\n",
    "    ax[counter].set_title(class_name)\n",
    "    ax[counter].set_xlabel('Number of frames in a clip')\n",
    "    if counter == 0:\n",
    "        ax[counter].set_ylabel('Number of clips')\n",
    "    counter += 1\n",
    "plt.show()"
   ]
  },
  {
   "cell_type": "code",
   "execution_count": 11,
   "metadata": {},
   "outputs": [],
   "source": [
    "## Copy all the files which have atleast 60 frames\n",
    "\n",
    "threshold = 60\n",
    "THRESH_DIR = '%s-%d-all'%(ROOT_DIR, threshold)\n",
    "\n",
    "create_directory(THRESH_DIR)\n",
    "for clip_name in os.listdir(ROOT_DIR):\n",
    "    clip_path = os.path.join(ROOT_DIR, clip_name)\n",
    "    frame_count = len(os.listdir(clip_path))\n",
    "    if threshold <= frame_count:\n",
    "        num_splits = frame_count//threshold\n",
    "        \n",
    "        for s in range(num_splits):\n",
    "            new_clip_path = os.path.join(THRESH_DIR, clip_name+\"-%d\"%s)\n",
    "            create_directory(new_clip_path)\n",
    "            for i in range(1,threshold+1):\n",
    "                    shutil.copy(os.path.join(clip_path,\"%d.jpg\"%(threshold*s+i)), os.path.join(new_clip_path, \"%d.jpg\"%i))\n",
    "            "
   ]
  },
  {
   "cell_type": "code",
   "execution_count": 18,
   "metadata": {},
   "outputs": [
    {
     "name": "stdout",
     "output_type": "stream",
     "text": [
      "Counter({'explore': 3334, 'investigate': 1109})\n"
     ]
    },
    {
     "data": {
      "image/png": "[encoded data removed]",
      "text/plain": [
       "<Figure size 432x288 with 1 Axes>"
      ]
     },
     "metadata": {},
     "output_type": "display_data"
    }
   ],
   "source": [
    "class_count, clip_distribution = get_stats(THRESH_DIR)\n",
    "plt.bar(range(len(class_count)), list(class_count.values()), align='center')\n",
    "plt.xticks(range(len(class_count)), list(class_count.keys()))\n",
    "plt.xlabel('Action')\n",
    "plt.ylabel('Number of clips')\n",
    "\n",
    "plt.show()"
   ]
  },
  {
   "cell_type": "code",
   "execution_count": null,
   "metadata": {},
   "outputs": [],
   "source": [
    "## Randomly delete 2200 explore clips\n",
    "\n",
    "import random\n",
    "explore_list = []\n",
    "for clip_name in os.listdir(THRESH_DIR):\n",
    "    loc1 = clip_name.find('>')\n",
    "    loc2 = clip_name.find('-')\n",
    "\n",
    "    class_name = clip_name[(loc1 + 1): loc2] \n",
    "    if class_name == 'explore': \n",
    "        explore_list.append(clip_name)\n",
    "delete_list = random.sample(explore_list, k=2200)\n"
   ]
  }
 ],
 "metadata": {
  "kernelspec": {
   "display_name": "Python 3",
   "language": "python",
   "name": "python3"
  },
  "language_info": {
   "codemirror_mode": {
    "name": "ipython",
    "version": 3
   },
   "file_extension": ".py",
   "mimetype": "text/x-python",
   "name": "python",
   "nbconvert_exporter": "python",
   "pygments_lexer": "ipython3",
   "version": "3.6.9"
  }
 },
 "nbformat": 4,
 "nbformat_minor": 2
}
